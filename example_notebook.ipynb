{
 "cells": [
  {
   "cell_type": "markdown",
   "metadata": {},
   "source": [
    "# Example notebook: how to fit experimental data to the Michaelis-Menten equation\n",
    "\n",
    "In biochemistry, Michaelis–Menten kinetics is one of the best-known models of enzyme kinetics. The model takes the form of an equation describing the rate of enzymatic reactions, by relating reaction rate $v$ to [S], the concentration of a substrate $S$. The most useful form of the equation for the working biochemist relates the quotient of velocity observed $v$ and enzyme concentration $[E]$ to the catalytic rate $k_cat$ and the pseudo$$v/[E]=\\frac{k_{cat}*[S]}{K_M + [S]}$$"
   ]
  },
  {
   "cell_type": "markdown",
   "metadata": {},
   "source": [
    "This notebook is a tutorial for the experimental biochemist who has collected data comprising the rate of product formation under different concentrations of substrate, as we frequently do in the [Siegel group](https://sites.google.com/site/ucdsiegellab/). Let's begin with data workup. \n",
    "\n",
    "## Data workup \n",
    "\n",
    "In a few steps, we'll work up our data for fitting. \n",
    "\n",
    "1. Convert your rates from OD/min into M/min (molar per minute) using a standard curve. \n",
    "1. Convert your enzyme concentration from mg/mL into M by dividing by the extinction coefficient of the protein and correcting for any dilution in your assay procedure \n",
    "1. Finally, divide the rates you observe (in units of M/min) by the enzyme concentration that you are testing (in units of M), to obtain rates in min$^{-1}$\n",
    "1. Convert your substrate concentrations into M as well\n",
    "1. Put them in a CSV table like the one in this repository called `example_data.csv` "
   ]
  },
  {
   "cell_type": "markdown",
   "metadata": {},
   "source": [
    "## Make a plot of your data\n",
    "\n",
    "Let's generate a plot of our data using the Python package `matplotlib` to see if it will fit the Michaelis-Menten equation.\n",
    "\n",
    "First, let's import the packages we'll need and do some iPython magic to get the plots to display on this page."
   ]
  },
  {
   "cell_type": "code",
   "execution_count": 6,
   "metadata": {
    "collapsed": false
   },
   "outputs": [],
   "source": [
    "import pandas\n",
    "%matplotlib inline "
   ]
  },
  {
   "cell_type": "markdown",
   "metadata": {},
   "source": [
    "Next, we'll read in the example data into a [Pandas](http://pandas.pydata.org) `DataFrame`, a data structure similar to a table that's a whole lot smarter and more useful. You can call the `DataFrame` whatever you like. I'll call this one `df`. "
   ]
  },
  {
   "cell_type": "code",
   "execution_count": 7,
   "metadata": {
    "collapsed": true
   },
   "outputs": [],
   "source": [
    "df = pandas.read_csv( 'example_data.csv' )"
   ]
  },
  {
   "cell_type": "markdown",
   "metadata": {},
   "source": [
    "Now that we have our data in a `DataFrame`, we can use the built-in method `plot()` of the `DataFrame` to make a quick scatter plot of our data and display it on screen."
   ]
  },
  {
   "cell_type": "code",
   "execution_count": 9,
   "metadata": {
    "collapsed": false
   },
   "outputs": [
    {
     "data": {
      "text/plain": [
       "<matplotlib.axes._subplots.AxesSubplot at 0x10be1dad0>"
      ]
     },
     "execution_count": 9,
     "metadata": {},
     "output_type": "execute_result"
    },
    {
     "data": {
      "image/png": "[encoded data removed]",
      "text/plain": [
       "<matplotlib.figure.Figure at 0x10ba89c50>"
      ]
     },
     "metadata": {},
     "output_type": "display_data"
    }
   ],
   "source": [
    "df.plot( x='substrate', y='rate', kind='scatter' )"
   ]
  },
  {
   "cell_type": "markdown",
   "metadata": {},
   "source": [
    "That looks like it will fit the Michaelis-Menten equation really well!"
   ]
  },
  {
   "cell_type": "markdown",
   "metadata": {},
   "source": [
    "## Fit your data to the Michaelis-Menten equation to determine $k_{cat}$ and $K_M$\n",
    "\n",
    "Next, we'll use the Python module [SciPy](http://www.scipy.org) to perform a nonlinear least-squares optimization to determine the values of $k_{cat}$ and $K_M$ that fit our data best. First, we'll import SciPy and a couple of Numpy modules that we'll need later "
   ]
  },
  {
   "cell_type": "code",
   "execution_count": 29,
   "metadata": {
    "collapsed": true
   },
   "outputs": [],
   "source": [
    "from scipy.optimize import curve_fit \n",
    "from numpy import diag, sqrt"
   ]
  },
  {
   "cell_type": "markdown",
   "metadata": {},
   "source": [
    "and define the Michaelis-Menten equation in Python code "
   ]
  },
  {
   "cell_type": "code",
   "execution_count": 30,
   "metadata": {
    "collapsed": true
   },
   "outputs": [],
   "source": [
    "def v( s, kcat, km ):\n",
    "    return ( kcat * s ) / ( km + s )"
   ]
  },
  {
   "cell_type": "markdown",
   "metadata": {},
   "source": [
    "We need to provide `curve_fit` with initial estimates of the parameters, which we can estimate from the scatter plot above. The value for $k_{cat}$ (the maximum rate observed) appears to be about 650 min$^{-1}$, and the value for $K_M$ (the point at which the velocity is half of $k_{cat}$ looks to be about 0.005. We'll define a new tuple, called `p0`, with these values"
   ]
  },
  {
   "cell_type": "code",
   "execution_count": 31,
   "metadata": {
    "collapsed": true
   },
   "outputs": [],
   "source": [
    "p0 = ( 650, 0.005 )"
   ]
  },
  {
   "cell_type": "markdown",
   "metadata": {},
   "source": [
    "Now we're ready to use `curve_fit`. [The `curve_fit` documentation](http://docs.scipy.org/doc/scipy/reference/generated/scipy.optimize.curve_fit.html) indicates that the function returns two arrays, called `popt` (= parameter optimums) and `pcov` (= parameter covariance). From the documentation:\n",
    "\n",
    "> **popt** : array\n",
    "> Optimal values for the parameters so that the sum of the squared error of f(xdata, *popt) - ydata is minimized\n",
    "\n",
    "> **pcov** : 2d array\n",
    "> The estimated covariance of popt. The diagonals provide the variance of the parameter estimate. To compute one standard deviation errors on the parameters use perr = np.sqrt(np.diag(pcov)).\n",
    "How the sigma parameter affects the estimated covariance depends on absolute_sigma argument, as described above.\n",
    "\n",
    "I recommend setting up your code to have the function return into two variables called `popt` and `pcov`.\n",
    "\n",
    "In this next step, we'll perform the optimization and catch the output variables into human-readable names. "
   ]
  },
  {
   "cell_type": "code",
   "execution_count": 46,
   "metadata": {
    "collapsed": false
   },
   "outputs": [],
   "source": [
    "popt, pcov = curve_fit( v, df.substrate, df.rate, p0=p0 )\n",
    "perr = sqrt( diag( pcov ) )\n",
    "\n",
    "# rename them to something readable \n",
    "kcat = popt[0]\n",
    "km = popt[1]\n",
    "\n",
    "# calculate standard errors\n",
    "for i in [ 0, 1 ]:\n",
    "    if not popt[ i ] or perr[ i ] > popt[ i ]:\n",
    "      popt[ i ] = perr[ i ] = None \n",
    "    else:\n",
    "      perr[ i ] = perr[ i ] / popt [ i ] * 100\n",
    "    \n",
    "percent_err_kcat = perr[0]\n",
    "percent_err_km = perr[1]"
   ]
  },
  {
   "cell_type": "markdown",
   "metadata": {},
   "source": [
    "Whew! That's it! Let's print out our results in a nice format, rounding numbers as necessary"
   ]
  },
  {
   "cell_type": "code",
   "execution_count": 53,
   "metadata": {
    "collapsed": false
   },
   "outputs": [
    {
     "name": "stdout",
     "output_type": "stream",
     "text": [
      "693 ± 1.8%\n",
      "0.0045 ± 7.2%\n"
     ]
    }
   ],
   "source": [
    "print 'The kcat determined for these data is {:0.0f} ± {:0.1f}%'.format( kcat, percent_err_kcat )\n",
    "print '{:0.4f} ± {:0.1f}%'.format( km, percent_err_km )"
   ]
  },
  {
   "cell_type": "code",
   "execution_count": null,
   "metadata": {
    "collapsed": true
   },
   "outputs": [],
   "source": []
  }
 ],
 "metadata": {
  "kernelspec": {
   "display_name": "Python 2",
   "language": "python",
   "name": "python2"
  },
  "language_info": {
   "codemirror_mode": {
    "name": "ipython",
    "version": 2
   },
   "file_extension": ".py",
   "mimetype": "text/x-python",
   "name": "python",
   "nbconvert_exporter": "python",
   "pygments_lexer": "ipython2",
   "version": "2.7.10"
  }
 },
 "nbformat": 4,
 "nbformat_minor": 0
}
